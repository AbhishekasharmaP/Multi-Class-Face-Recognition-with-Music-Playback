{
 "cells": [
  {
   "cell_type": "code",
   "execution_count": 1,
   "metadata": {},
   "outputs": [
    {
     "name": "stdout",
     "output_type": "stream",
     "text": [
      "hello\n"
     ]
    }
   ],
   "source": [
    "print('hello')"
   ]
  },
  {
   "cell_type": "code",
   "execution_count": 3,
   "metadata": {},
   "outputs": [
    {
     "name": "stdout",
     "output_type": "stream",
     "text": [
      "Collecting python-vlc\n",
      "  Downloading python_vlc-3.0.20123-py3-none-any.whl.metadata (1.4 kB)\n",
      "Downloading python_vlc-3.0.20123-py3-none-any.whl (79 kB)\n",
      "   ---------------------------------------- 0.0/79.9 kB ? eta -:--:--\n",
      "   ----------------------------------- ---- 71.7/79.9 kB 1.3 MB/s eta 0:00:01\n",
      "   ---------------------------------------- 79.9/79.9 kB 1.1 MB/s eta 0:00:00\n",
      "Installing collected packages: python-vlc\n",
      "Successfully installed python-vlc-3.0.20123\n",
      "Note: you may need to restart the kernel to use updated packages.\n"
     ]
    }
   ],
   "source": [
    "pip install python-vlc"
   ]
  },
  {
   "cell_type": "code",
   "execution_count": 5,
   "metadata": {},
   "outputs": [],
   "source": [
    "import vlc\n",
    "import os"
   ]
  },
  {
   "cell_type": "code",
   "execution_count": null,
   "metadata": {},
   "outputs": [],
   "source": [
    "predicted_name = 'abhi'\n",
    "music_folder=''\n",
    "\n",
    "# Check if the predicted name corresponds to a folder in your music collection\n",
    "if predicted_name in os.listdir(music_folder):\n",
    "    playlist_folder = os.path.join(music_folder, predicted_name)\n",
    "    music_files = [os.path.join(playlist_folder, f) for f in os.listdir(playlist_folder) if f.endswith(\".mp3\")]\n",
    "\n",
    "    if music_files:\n",
    "        # Create a VLC instance\n",
    "        instance = vlc.Instance('--no-xlib')\n",
    "\n",
    "        # Create a media list and add the music files\n",
    "        media_list = instance.media_list_new()\n",
    "        for music_file in music_files:\n",
    "            media_list.add_media(instance.media_new(music_file))\n",
    "\n",
    "        # Create a media player and set the media list\n",
    "        player = instance.media_list_player_new()\n",
    "        player.set_media_list(media_list)\n",
    "\n",
    "        # Start playing the playlist\n",
    "        player.play()\n",
    "\n",
    "        # Wait for the playback to finish\n",
    "        player.get_media_player().event_manager().event_attach(vlc.EventType.MediaPlayerEndReached, lambda x: player.stop())\n",
    "        player.get_media_player().event_manager().event_attach(vlc.EventType.MediaPlayerStopped, lambda x: player.release())\n",
    "        player.play()\n",
    "\n",
    "        input(\"Press Enter to continue...\")\n",
    "\n",
    "# Clean up after playing\n",
    "player.get_media_player().stop()\n",
    "player.release()"
   ]
  }
 ],
 "metadata": {
  "kernelspec": {
   "display_name": "Python 3",
   "language": "python",
   "name": "python3"
  },
  "language_info": {
   "codemirror_mode": {
    "name": "ipython",
    "version": 3
   },
   "file_extension": ".py",
   "mimetype": "text/x-python",
   "name": "python",
   "nbconvert_exporter": "python",
   "pygments_lexer": "ipython3",
   "version": "3.11.4"
  }
 },
 "nbformat": 4,
 "nbformat_minor": 2
}
